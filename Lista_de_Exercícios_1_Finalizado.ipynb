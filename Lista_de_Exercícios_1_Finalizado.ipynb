{
  "nbformat": 4,
  "nbformat_minor": 0,
  "metadata": {
    "colab": {
      "provenance": [],
      "authorship_tag": "ABX9TyOJpe2Jkm1jVAiA+fRlUyHE",
      "include_colab_link": true
    },
    "kernelspec": {
      "name": "python3",
      "display_name": "Python 3"
    },
    "language_info": {
      "name": "python"
    }
  },
  "cells": [
    {
      "cell_type": "markdown",
      "metadata": {
        "id": "view-in-github",
        "colab_type": "text"
      },
      "source": [
        "<a href=\"https://colab.research.google.com/github/leonardovianaalves/Universidade-Federal-do-Rec-ncavo/blob/main/Lista_de_Exerc%C3%ADcios_1_Finalizado.ipynb\" target=\"_parent\"><img src=\"https://colab.research.google.com/assets/colab-badge.svg\" alt=\"Open In Colab\"/></a>"
      ]
    },
    {
      "cell_type": "markdown",
      "source": [
        "Lista de Exercicios  - TRILHA 1\n",
        "\n",
        "Modo de funcionamento:\n",
        "\n",
        "*   Pedem dados ao usuário (input).\n",
        "*   Calculam usando operações matemáticas.\n",
        "*   Exibem o resultado (print).\n",
        "\n",
        "Teste efetuado dia: (26.03.2025) - ok\n",
        "\n",
        "\n",
        "\n",
        "\n"
      ],
      "metadata": {
        "id": "5VtDuUNlpgCN"
      }
    },
    {
      "cell_type": "code",
      "source": [
        "# Exercício 1: Média de Três Números\n",
        "print(\"Exercício 1: Média de Três Números\")\n",
        "num1 = float(input(\"Digite o primeiro numero: \"))\n",
        "num2 = float(input(\"Digite o segundo numero: \"))\n",
        "num3 = float(input(\"Digite o terceiro numero: \"))\n",
        "media = (num1 + num2 + num3) / 3\n",
        "print(\"A media    :\", media)\n",
        "print(\"\\n\")"
      ],
      "metadata": {
        "id": "hdBxe2zepg-c"
      },
      "execution_count": null,
      "outputs": []
    },
    {
      "cell_type": "code",
      "source": [
        "# Exercício 2: Área de um Retângulo\n",
        "print(\"Exercício 2: Área de um Retângulo\")\n",
        "base = float(input(\"Digite a base do retângulo: \"))\n",
        "altura = float(input(\"Digite a altura do retângulo: \"))\n",
        "area = base * altura\n",
        "print(\"A área do retângulo   :\", area)\n",
        "print(\"\\n\")"
      ],
      "metadata": {
        "id": "_EzrrNrCphI9"
      },
      "execution_count": null,
      "outputs": []
    },
    {
      "cell_type": "code",
      "source": [
        "# Exercício 3: Perímetro de um Quadrado\n",
        "print(\"Exercício 3: Perímetro de um Quadrado\")\n",
        "lado = float(input(\"Digite o lado do quadrado: \"))\n",
        "perimetro = 4 * lado\n",
        "print(\"O perímetro do quadrado :\", perimetro)\n",
        "print(\"\\n\")"
      ],
      "metadata": {
        "id": "GiIAsDUOphSd"
      },
      "execution_count": null,
      "outputs": []
    },
    {
      "cell_type": "code",
      "source": [
        "# Exercício 4: Divisão Inteira e Resto\n",
        "print(\"Exercício 4: Divisão Inteira e Resto\")\n",
        "num1 = int(input(\"Digite o primeiro número: \"))\n",
        "num2 = int(input(\"Digite o segundo número: \"))\n",
        "div_inteira = num1 // num2\n",
        "resto = num1 % num2\n",
        "print(\"Divisão inteira:\", div_inteira)\n",
        "print(\"Resto da divisão:\", resto)\n",
        "print(\"\\n\")"
      ],
      "metadata": {
        "id": "TphOiwUcphb1"
      },
      "execution_count": null,
      "outputs": []
    },
    {
      "cell_type": "code",
      "source": [
        "# Exercício 5: Cálculo de IMC\n",
        "print(\"Exercício 5: Cálculo de IMC\")\n",
        "peso = float(input(\"Digite seu peso (em kg): \"))\n",
        "altura = float(input(\"Digite sua altura (em metros): \"))\n",
        "imc = peso / (altura ** 2)\n",
        "print(\"Seu IMC :\", round(imc, 2))\n",
        "print(\"\\n\")"
      ],
      "metadata": {
        "id": "u__ypq7UphkV"
      },
      "execution_count": null,
      "outputs": []
    },
    {
      "cell_type": "code",
      "source": [
        "# Exercício 6: Soma de Dígitos\n",
        "print(\"Exercício 6: Soma de Dígitos\")\n",
        "numero = int(input(\"Digite um número de dois dígitos: \"))\n",
        "digito1 = numero // 10\n",
        "digito2 = numero % 10\n",
        "soma = digito1 + digito2\n",
        "print(\"A soma dos dígitos :\", soma)\n",
        "print(\"\\n\")"
      ],
      "metadata": {
        "id": "jWxvcghMpht9"
      },
      "execution_count": null,
      "outputs": []
    },
    {
      "cell_type": "code",
      "source": [
        "# Exercício 7: Cálculo de Juros Simples\n",
        "print(\"Exercício 7: Cálculo de Juros Simples\")\n",
        "capital = float(input(\"Digite o capital inicial: \"))\n",
        "taxa = float(input(\"Digite a taxa de juros anual (%): \"))\n",
        "tempo = float(input(\"Digite o tempo (anos): \"))\n",
        "montante = capital * (1 + (taxa / 100) * tempo)\n",
        "print(\"O montante final : R$\", montante)\n",
        "print(\"\\n\")"
      ],
      "metadata": {
        "id": "2S0erOtAph3l"
      },
      "execution_count": null,
      "outputs": []
    },
    {
      "cell_type": "code",
      "source": [
        "# Exercício 8: Cálculo de Juros Compostos\n",
        "print(\"Exercício 8: Cálculo de Juros Compostos\")\n",
        "capital = float(input(\"Digite o capital inicial: \"))\n",
        "taxa = float(input(\"Digite a taxa de juros anual (%): \"))\n",
        "tempo = float(input(\"Digite o tempo de investimento (anos): \"))\n",
        "montante = capital * (1 + taxa / 100) ** tempo\n",
        "print(\"O montante final após\", int(tempo), \"anos: R$\", round(montante, 2))\n",
        "print(\"\\n\")"
      ],
      "metadata": {
        "id": "v_d5HmCTpiE0"
      },
      "execution_count": null,
      "outputs": []
    },
    {
      "cell_type": "code",
      "source": [
        "# Exercício 9: Cálculo das Raízes de uma Equação do Segundo Grau\n",
        "print(\"Exercício 9: Cálculo das Raízes de uma Equação do Segundo Grau\")\n",
        "a = float(input(\"Digite o coeficiente a: \"))\n",
        "b = float(input(\"Digite o coeficiente b: \"))\n",
        "c = float(input(\"Digite o coeficiente c: \"))\n",
        "delta = b**2 - 4*a*c\n",
        "\n",
        "if delta > 0:\n",
        "    x1 = (-b + delta**0.5) / (2*a)\n",
        "    x2 = (-b - delta**0.5) / (2*a)\n",
        "    print(\"As raízes são:\")\n",
        "    print(\"x1 =\", x1)\n",
        "    print(\"x2 =\", x2)\n",
        "elif delta == 0:\n",
        "    x = -b / (2*a)\n",
        "    print(\"A equação tem uma raiz real (raiz dupla):\")\n",
        "    print(\"x =\", x)\n",
        "else:\n",
        "    print(\"A equação não tem raízes reais (raízes complexas)\")\n",
        "print(\"\\n\")"
      ],
      "metadata": {
        "id": "ywww5ZljpiPt"
      },
      "execution_count": null,
      "outputs": []
    },
    {
      "cell_type": "code",
      "source": [
        "# Exercício 10: Cálculo de Área de um Trapézio\n",
        "print(\"Exercício 10: Cálculo de Área de um Trapézio\")\n",
        "base_maior = float(input(\"Digite a base maior: \"))\n",
        "base_menor = float(input(\"Digite a base menor: \"))\n",
        "altura = float(input(\"Digite a altura: \"))\n",
        "area = ((base_maior + base_menor) * altura) / 2\n",
        "print(\"Área do trapézio:\", area)"
      ],
      "metadata": {
        "id": "EEVuB-B3qk3a"
      },
      "execution_count": null,
      "outputs": []
    }
  ]
}
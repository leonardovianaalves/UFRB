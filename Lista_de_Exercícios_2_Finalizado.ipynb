{
  "cells": [
    {
      "cell_type": "markdown",
      "metadata": {
        "id": "7rNwBjBRfMep"
      },
      "source": [
        "Lista de Exercicios  - TRILHA 2\n",
        "\n",
        "\n",
        "\n",
        "Teste efetuado dia: (04.04.2025) - ok VSCODE"
      ]
    },
    {
      "cell_type": "code",
      "execution_count": null,
      "metadata": {
        "id": "k6gMI35kfMw5"
      },
      "outputs": [],
      "source": [
        "# Exercício 1: Verificar se um número é par ou ímpar\n",
        "print(\"Exercício 1: Verificar se um número é par ou ímpar\")\n",
        "numero = int(input(\"Digite um número inteiro: \"))\n",
        "if numero % 2 == 0:\n",
        "    print(f\"O número {numero} é par.\")\n",
        "else:\n",
        "    print(f\"O número {numero} é ímpar.\")\n",
        "print(\"\\n\")"
      ]
    },
    {
      "cell_type": "code",
      "execution_count": null,
      "metadata": {
        "id": "sKvwQS4hfNGQ"
      },
      "outputs": [],
      "source": [
        "# Exercício 2: Maior entre dois números\n",
        "print(\"Exercício 2: Maior entre dois números\")\n",
        "num1 = float(input(\"Digite o primeiro número: \"))\n",
        "num2 = float(input(\"Digite o segundo número: \"))\n",
        "if num1 > num2:\n",
        "    print(f\"O maior número é {num1}.\")\n",
        "elif num2 > num1:\n",
        "    print(f\"O maior número é {num2}.\")\n",
        "else:\n",
        "    print(\"Os números são iguais.\")\n",
        "print(\"\\n\")"
      ]
    },
    {
      "cell_type": "code",
      "execution_count": null,
      "metadata": {
        "colab": {
          "background_save": true,
          "base_uri": "https://localhost:8080/"
        },
        "id": "TyBsredSfNSB",
        "outputId": "135d56d3-e6f0-4c07-b31e-631751b76cd9"
      },
      "outputs": [
        {
          "name": "stdout",
          "output_type": "stream",
          "text": [
            "Exercício 3: Calcular imposto de renda\n"
          ]
        }
      ],
      "source": [
        "# Exercício 3: Calcular imposto de renda\n",
        "print(\"Exercício 3: Calcular imposto de renda\")\n",
        "salario = float(input(\"Digite seu salário: R$ \"))\n",
        "if salario <= 1903.98:\n",
        "    imposto = 0\n",
        "elif salario <= 2826.65:\n",
        "    imposto = salario * 0.075\n",
        "elif salario <= 3751.05:\n",
        "    imposto = salario * 0.15\n",
        "elif salario <= 4664.68:\n",
        "    imposto = salario * 0.225\n",
        "else:\n",
        "    imposto = salario * 0.275\n",
        "\n",
        "if imposto == 0:\n",
        "    print(\"Você está isento de imposto de renda.\")\n",
        "else:\n",
        "    print(f\"O valor do imposto de renda é: R$ {imposto:.2f}\")\n",
        "print(\"\\n\")\n"
      ]
    },
    {
      "cell_type": "code",
      "execution_count": null,
      "metadata": {
        "id": "OdcmOm5QfNbK"
      },
      "outputs": [],
      "source": [
        "# Exercício 4: Verificar se uma pessoa pode votar\n",
        "print(\"Exercício 4: Verificar se uma pessoa pode votar\")\n",
        "idade = int(input(\"Digite sua idade: \"))\n",
        "if idade >= 18 and idade <= 70:\n",
        "    print(\"Você é obrigado(a) a votar.\")\n",
        "elif (idade >= 16 and idade < 18) or idade > 70:\n",
        "    print(\"Você pode votar, mas não é obrigado(a).\")\n",
        "else:\n",
        "    print(\"Você não pode votar.\")\n",
        "print(\"\\n\")"
      ]
    },
    {
      "cell_type": "code",
      "execution_count": null,
      "metadata": {
        "id": "6MDBVkMQfNlx"
      },
      "outputs": [],
      "source": [
        "# Exercício 5: Classificar IMC\n",
        "print(\"Exercício 5: Classificar IMC\")\n",
        "peso = float(input(\"Digite seu peso em kg: \"))\n",
        "altura = float(input(\"Digite sua altura em metros: \"))\n",
        "imc = peso / (altura ** 2)\n",
        "print(f\"Seu IMC é: {imc:.2f}\")\n",
        "\n",
        "if imc < 18.5:\n",
        "    print(\"Classificação: Abaixo do peso\")\n",
        "elif imc <= 24.9:\n",
        "    print(\"Classificação: Peso normal\")\n",
        "elif imc <= 29.9:\n",
        "    print(\"Classificação: Sobrepeso\")\n",
        "else:\n",
        "    print(\"Classificação: Obesidade\")\n",
        "print(\"\\n\")"
      ]
    },
    {
      "cell_type": "code",
      "execution_count": null,
      "metadata": {
        "id": "XxbHaBUrfNvZ"
      },
      "outputs": [],
      "source": [
        "# Exercício 6: Calcular desconto em uma compra\n",
        "print(\"Exercício 6: Calcular desconto em uma compra\")\n",
        "valor_compra = float(input(\"Digite o valor total da compra: R$ \"))\n",
        "if valor_compra <= 100:\n",
        "    desconto = 0\n",
        "elif valor_compra <= 500:\n",
        "    desconto = valor_compra * 0.10\n",
        "else:\n",
        "    desconto = valor_compra * 0.20\n",
        "\n",
        "valor_final = valor_compra - desconto\n",
        "print(f\"Valor do desconto: R$ {desconto:.2f}\")\n",
        "print(f\"Valor final a pagar: R$ {valor_final:.2f}\")\n",
        "print(\"\\n\")"
      ]
    },
    {
      "cell_type": "code",
      "execution_count": null,
      "metadata": {
        "id": "_jJmSzYzfN37"
      },
      "outputs": [],
      "source": [
        "# Exercício 7: Classificar idade\n",
        "print(\"Exercício 7: Classificar idade\")\n",
        "idade = int(input(\"Digite a idade: \"))\n",
        "if idade <= 12:\n",
        "    print(\"Criança\")\n",
        "elif idade <= 17:\n",
        "    print(\"Adolescente\")\n",
        "else:\n",
        "    print(\"Adulto\")\n",
        "print(\"\\n\")"
      ]
    },
    {
      "cell_type": "code",
      "execution_count": null,
      "metadata": {
        "id": "XUBaVKM2fODx"
      },
      "outputs": [],
      "source": [
        "# Exercício 8: Verificar se um ano é bissexto\n",
        "print(\"Exercício 8: Verificar se um ano é bissexto\")\n",
        "ano = int(input(\"Digite um ano: \"))\n",
        "if (ano % 4 == 0 and ano % 100 != 0) or (ano % 400 == 0):\n",
        "    print(f\"O ano {ano} é bissexto.\")\n",
        "else:\n",
        "    print(f\"O ano {ano} não é bissexto.\")\n",
        "print(\"\\n\")\n"
      ]
    },
    {
      "cell_type": "code",
      "execution_count": null,
      "metadata": {
        "id": "cLaRwpcwfOMi"
      },
      "outputs": [],
      "source": [
        "# Exercício 9: Verificar se um número é múltiplo de outro\n",
        "print(\"Exercício 9: Verificar se um número é múltiplo de outro\")\n",
        "a = int(input(\"Digite o primeiro número (A): \"))\n",
        "b = int(input(\"Digite o segundo número (B): \"))\n",
        "\n",
        "if a % b == 0:\n",
        "    print(f\"{a} é múltiplo de {b}.\")\n",
        "elif b % a == 0:\n",
        "    print(f\"{b} é múltiplo de {a}.\")\n",
        "else:\n",
        "    print(f\"Nenhum dos números é múltiplo do outro.\")\n",
        "print(\"\\n\")"
      ]
    },
    {
      "cell_type": "code",
      "execution_count": null,
      "metadata": {
        "id": "0wf_FNmLfOWB"
      },
      "outputs": [],
      "source": [
        "# Exercício 10: Verificar se um número é múltiplo de 7\n",
        "print(\"Exercício 10: Verificar se um número é múltiplo de 7\")\n",
        "numero = int(input(\"Digite um número: \"))\n",
        "if numero % 7 == 0:\n",
        "    print(f\"O número {numero} é múltiplo de 7.\")\n",
        "else:\n",
        "    print(f\"O número {numero} não é múltiplo de 7.\")"
      ]
    }
  ],
  "metadata": {
    "colab": {
      "provenance": []
    },
    "kernelspec": {
      "display_name": "Python 3",
      "name": "python3"
    },
    "language_info": {
      "name": "python"
    }
  },
  "nbformat": 4,
  "nbformat_minor": 0
}
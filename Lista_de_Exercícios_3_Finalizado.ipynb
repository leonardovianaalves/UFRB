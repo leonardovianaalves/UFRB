{
  "nbformat": 4,
  "nbformat_minor": 0,
  "metadata": {
    "colab": {
      "provenance": []
    },
    "kernelspec": {
      "name": "python3",
      "display_name": "Python 3"
    },
    "language_info": {
      "name": "python"
    }
  },
  "cells": [
    {
      "cell_type": "markdown",
      "source": [
        "Lista de Exercicios  - TRILHA 3\n",
        "\n",
        "\n",
        "\n",
        "\n",
        "Teste efetuado dia: (13.04.2025) - ok VSCODE"
      ],
      "metadata": {
        "id": "xCbg0ywNiH22"
      }
    },
    {
      "cell_type": "code",
      "execution_count": null,
      "metadata": {
        "id": "AdKyZZh0hTDV"
      },
      "outputs": [],
      "source": [
        "inicio = int(input(\"Digite o número inicial: \"))\n",
        "fim = int(input(\"Digite o número final: \"))\n",
        "\n",
        "print(f\"Números pares entre {inicio} e {fim}:\")\n",
        "for num in range(inicio, fim + 1):\n",
        "    if num % 2 == 0:\n",
        "        print(num, end=' ')"
      ]
    },
    {
      "cell_type": "code",
      "source": [
        "inicio = int(input(\"Digite o número inicial: \"))\n",
        "fim = int(input(\"Digite o número final: \"))\n",
        "\n",
        "print(f\"Números ímpares entre {inicio} e {fim}:\")\n",
        "for num in range(inicio, fim + 1):\n",
        "    if num % 2 != 0:\n",
        "        print(num, end=' ')"
      ],
      "metadata": {
        "id": "r7t6IvMyiFzm"
      },
      "execution_count": null,
      "outputs": []
    },
    {
      "cell_type": "code",
      "source": [
        "soma = 0\n",
        "quantidade = 0\n",
        "\n",
        "while True:\n",
        "    num = float(input(\"Digite um número (-1 para parar): \"))\n",
        "    if num == -1:\n",
        "        break\n",
        "    soma += num\n",
        "    quantidade += 1\n",
        "\n",
        "if quantidade > 0:\n",
        "    media = soma / quantidade\n",
        "    print(f\"Média dos números digitados: {media:.2f}\")\n",
        "else:\n",
        "    print(\"Nenhum número foi digitado.\")"
      ],
      "metadata": {
        "id": "PfY3D3gsiGBl"
      },
      "execution_count": null,
      "outputs": []
    },
    {
      "cell_type": "code",
      "source": [
        "n = int(input(\"Digite um número inteiro positivo: \"))\n",
        "soma = 0\n",
        "\n",
        "for i in range(1, n + 1):\n",
        "    soma += i\n",
        "\n",
        "print(f\"Somatório de 1 até {n}: {soma}\")"
      ],
      "metadata": {
        "id": "8Q5uREq8iGMd"
      },
      "execution_count": null,
      "outputs": []
    },
    {
      "cell_type": "code",
      "source": [
        "n = int(input(\"Digite um número inteiro positivo: \"))\n",
        "\n",
        "print(f\"Números de {n} até 1 em ordem decrescente:\")\n",
        "for i in range(n, 0, -1):\n",
        "    print(i, end=' ')"
      ],
      "metadata": {
        "id": "4pqY8HhpiGWV"
      },
      "execution_count": null,
      "outputs": []
    },
    {
      "cell_type": "code",
      "source": [
        "n = int(input(\"Quantos termos da sequência de Fibonacci você deseja ver? \"))\n",
        "\n",
        "a, b = 1, 1\n",
        "print(\"Sequência de Fibonacci:\")\n",
        "for _ in range(n):\n",
        "    print(a, end=' ')\n",
        "    a, b = b, a + b"
      ],
      "metadata": {
        "id": "52nHg4IIiGfV"
      },
      "execution_count": null,
      "outputs": []
    },
    {
      "cell_type": "code",
      "source": [
        "n = int(input(\"Digite um número para calcular o fatorial: \"))\n",
        "fatorial = 1\n",
        "\n",
        "for i in range(1, n + 1):\n",
        "    fatorial *= i\n",
        "\n",
        "print(f\"O fatorial de {n} é {fatorial}\")"
      ],
      "metadata": {
        "id": "D2KKQBeSiGn9"
      },
      "execution_count": null,
      "outputs": []
    },
    {
      "cell_type": "code",
      "source": [
        "numero = int(input(\"Digite um número: \"))\n",
        "\n",
        "print(f\"Divisores de {numero}:\")\n",
        "for i in range(1, numero + 1):\n",
        "    if numero % i == 0:\n",
        "        print(i, end=' ')"
      ],
      "metadata": {
        "id": "2lWCiAwWiGxO"
      },
      "execution_count": null,
      "outputs": []
    },
    {
      "cell_type": "code",
      "source": [
        "numero = int(input(\"Digite um número para verificar se é primo: \"))\n",
        "divisores = 0\n",
        "\n",
        "for i in range(1, numero + 1):\n",
        "    if numero % i == 0:\n",
        "        divisores += 1\n",
        "\n",
        "if divisores == 2:\n",
        "    print(f\"{numero} é PRIMO\")\n",
        "else:\n",
        "    print(f\"{numero} NÃO É PRIMO\")"
      ],
      "metadata": {
        "id": "W-oJa8cUiG7m"
      },
      "execution_count": null,
      "outputs": []
    },
    {
      "cell_type": "code",
      "source": [
        "import random\n",
        "\n",
        "numero_secreto = random.randint(1, 100)\n",
        "tentativas = 0\n",
        "\n",
        "print(\"Adivinhe o número entre 1 e 100!\")\n",
        "\n",
        "while True:\n",
        "    tentativa = int(input(\"Digite seu palpite: \"))\n",
        "    tentativas += 1\n",
        "\n",
        "    if tentativa < numero_secreto:\n",
        "        print(\"Muito baixo! Tente novamente.\")\n",
        "    elif tentativa > numero_secreto:\n",
        "        print(\"Muito alto! Tente novamente.\")\n",
        "    else:\n",
        "        print(f\"Parabéns! Você acertou em {tentativas} tentativas!\")\n",
        "        break"
      ],
      "metadata": {
        "id": "FSpntY7niHEO"
      },
      "execution_count": null,
      "outputs": []
    }
  ]
}